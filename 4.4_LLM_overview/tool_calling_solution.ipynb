{
 "cells": [
  {
   "cell_type": "markdown",
   "id": "32b074d3-0a10-4ee4-b08c-da6c6158b737",
   "metadata": {},
   "source": [
    "## Tool Calling"
   ]
  },
  {
   "cell_type": "markdown",
   "id": "5815f1ca-b380-4c93-8b5a-e285413008da",
   "metadata": {},
   "source": [
    "Function calling lets a language model go beyond just generating text — it can decide when to use specific tools or functions based on what the user says. For example, if someone asks “what’s 3 times 5?”, the model can respond with a structured output like {\"name\": \"multiply\", \"arguments\": {\"x\": 3, \"y\": 5}}, which your program can then use to run the actual multiply function. This works by giving the model a clear prompt that explains what tools are available and how to respond in a specific format, usually JSON. With the right setup, even models that don’t have built-in tool support can still follow the instructions and act like smart assistants that trigger real code."
   ]
  },
  {
   "cell_type": "markdown",
   "id": "ca41eb0e-fcb1-41c6-9f81-ee49080e9c28",
   "metadata": {},
   "source": [
    "## Functions"
   ]
  },
  {
   "cell_type": "markdown",
   "id": "1f0c9bea-4a03-44c9-bd12-c5e8faf58853",
   "metadata": {},
   "source": [
    "In this tutorial, we’ll be working with functions and using function calling to make language models more useful and interactive. Function calling is especially powerful when the model needs to handle tasks it can’t do on its own — like checking the current weather or time, accessing private or proprietary data, or querying an external system like a SQL database. By setting up a system where the model can “ask” for a specific tool to be used, we can bridge the gap between the LLM and real-world functionality it wouldn’t otherwise have access to."
   ]
  },
  {
   "cell_type": "markdown",
   "id": "2f601534-e81a-4e53-9599-b9637aa5b711",
   "metadata": {},
   "source": [
    "Lets take a look at some functions that an LLM would not naturally be able to get:"
   ]
  },
  {
   "cell_type": "code",
   "execution_count": 1,
   "id": "557b83f5-0dad-41e1-b164-a2a85eab72fa",
   "metadata": {},
   "outputs": [
    {
     "data": {
      "text/plain": [
       "'{\"current_time\": \"2025-06-24 17:01:16\"}'"
      ]
     },
     "execution_count": 1,
     "metadata": {},
     "output_type": "execute_result"
    }
   ],
   "source": [
    "from datetime import datetime\n",
    "import json\n",
    "\n",
    "# Function to get the current time\n",
    "def get_current_time():\n",
    "    current_time = datetime.now().strftime(\"%Y-%m-%d %H:%M:%S\")\n",
    "    return json.dumps({\"current_time\": current_time})\n",
    "\n",
    "get_current_time()"
   ]
  },
  {
   "cell_type": "code",
   "execution_count": 2,
   "id": "1e9c91d0-9b3a-4d54-b2cf-c030e8be3518",
   "metadata": {},
   "outputs": [
    {
     "data": {
      "text/plain": [
       "'{\"city\": \"La Jolla\", \"temperature\": 19.4, \"wind_speed\": 11.4, \"condition\": \"clear sky \\\\u2600\\\\ufe0f\"}'"
      ]
     },
     "execution_count": 2,
     "metadata": {},
     "output_type": "execute_result"
    }
   ],
   "source": [
    "from weather import get_weather\n",
    "get_weather(\"La Jolla\")"
   ]
  },
  {
   "cell_type": "code",
   "execution_count": 3,
   "id": "bbcd49db-7227-4c84-80d5-47dc9ee4fed1",
   "metadata": {},
   "outputs": [],
   "source": [
    "import sqlite3\n",
    "\n",
    "# Create an in-memory SQLite database and populate it with sample data\n",
    "conn = sqlite3.connect(':memory:')\n",
    "cursor = conn.cursor()\n",
    "\n",
    "# Create a sample table and insert some data\n",
    "cursor.execute('''\n",
    "    CREATE TABLE employees (\n",
    "        id INTEGER PRIMARY KEY,\n",
    "        name TEXT,\n",
    "        position TEXT,\n",
    "        salary INTEGER\n",
    "    )\n",
    "''')\n",
    "\n",
    "sample_data = [\n",
    "    (1, 'Alice', 'Engineer', 75000),\n",
    "    (2, 'Bob', 'Manager', 90000),\n",
    "    (3, 'Charlie', 'Analyst', 60000),\n",
    "    (4, 'Diana', 'HR', 50000)\n",
    "]\n",
    "\n",
    "cursor.executemany('INSERT INTO employees VALUES (?, ?, ?, ?)', sample_data)\n",
    "conn.commit()\n",
    "\n",
    "# Define the function to execute SQL queries\n",
    "def execute_sql_query(query: str):\n",
    "    try:\n",
    "        cursor.execute(query)\n",
    "        results = cursor.fetchall()\n",
    "        return json.dumps({\"results\": results})\n",
    "    except Exception as e:\n",
    "        return json.dumps({\"error\": str(e)})"
   ]
  },
  {
   "cell_type": "code",
   "execution_count": 4,
   "id": "4c548597-f22d-499a-829c-c6d63114cb65",
   "metadata": {},
   "outputs": [
    {
     "data": {
      "text/plain": [
       "'{\"results\": [[1, \"Alice\", \"Engineer\", 75000], [2, \"Bob\", \"Manager\", 90000], [3, \"Charlie\", \"Analyst\", 60000], [4, \"Diana\", \"HR\", 50000]]}'"
      ]
     },
     "execution_count": 4,
     "metadata": {},
     "output_type": "execute_result"
    }
   ],
   "source": [
    "execute_sql_query(\"SELECT * FROM employees\")"
   ]
  },
  {
   "cell_type": "markdown",
   "id": "975ea27a-1c84-44a2-b3b4-f18015862c9f",
   "metadata": {},
   "source": [
    "## Describe Function"
   ]
  },
  {
   "cell_type": "markdown",
   "id": "6625999b-6035-42ce-a072-39dd899c992a",
   "metadata": {},
   "source": [
    "Before an LLM can use a function, we need to describe that function in a way the model can understand. This is usually done using a JSON-like dictionary that includes:\n",
    "\n",
    "- The function’s name\n",
    "\n",
    "- A description of what it does\n",
    "\n",
    "- Its parameters, including types and optional descriptions for each argument\n",
    "\n",
    "You can write these descriptions manually, or even ask an LLM to help generate them — and then review or modify the result as needed."
   ]
  },
  {
   "cell_type": "code",
   "execution_count": 5,
   "id": "47774110-fc0c-429f-a867-ec8b5f9bb5bb",
   "metadata": {},
   "outputs": [],
   "source": [
    "weather_tool = {\n",
    "    \"type\": \"function\",\n",
    "    \"function\": {\n",
    "        \"name\": \"get_weather\",\n",
    "        \"description\": \"Fetches the current weather for a given city.\",\n",
    "        \"parameters\": {\n",
    "            \"type\": \"object\",\n",
    "            \"properties\": {\n",
    "                \"city\": {\n",
    "                    \"type\": \"string\",\n",
    "                    \"description\": \"The name of the city.\"\n",
    "                }\n",
    "            },\n",
    "            \"required\": [\"city\"]\n",
    "        }\n",
    "    }\n",
    "}\n",
    "\n",
    "\n",
    "time_tool = {\n",
    "    \"type\": \"function\",\n",
    "    \"function\": {\n",
    "        \"name\": \"get_current_time\",\n",
    "        \"description\": \"Fetches the current time.\",\n",
    "        \"parameters\": {}\n",
    "    }\n",
    "}\n",
    "\n",
    "sql_tool = {\n",
    "    \"type\": \"function\",\n",
    "    \"function\": {\n",
    "        \"name\": \"execute_sql_query\",\n",
    "        \"description\": \"Execute an SQL query on database with table name 'employees' and return the results. The schema is id, name, position, salary\",\n",
    "        \"parameters\": {\n",
    "            \"type\": \"object\",\n",
    "            \"properties\": {\n",
    "                \"query\": {\n",
    "                    \"type\": \"string\",\n",
    "                    \"description\": \"The SQL query to execute.\"\n",
    "                }\n",
    "            },\n",
    "            \"required\": [\"query\"]\n",
    "        }\n",
    "    }\n",
    "}"
   ]
  },
  {
   "cell_type": "markdown",
   "id": "cee60396-7200-40f0-af1a-74fc78ec3878",
   "metadata": {},
   "source": [
    "## Tool Calling Setup"
   ]
  },
  {
   "cell_type": "code",
   "execution_count": 6,
   "id": "18baedd8-367a-4742-8c24-eaefb005ce94",
   "metadata": {},
   "outputs": [],
   "source": [
    "TOOL_FUNCTIONS = {\n",
    "    \"get_weather\": get_weather,\n",
    "    \"get_current_time\": get_current_time,\n",
    "    \"execute_sql_query\": execute_sql_query\n",
    "}"
   ]
  },
  {
   "cell_type": "code",
   "execution_count": 7,
   "id": "e8132a64-fa3d-4fe2-85bf-3bddcee0939a",
   "metadata": {},
   "outputs": [],
   "source": [
    "import os\n",
    "from ollama import Client\n",
    "\n",
    "# Read the port from the file\n",
    "with open(os.path.expanduser('~/.ollama_port')) as f:\n",
    "    port = f.read().strip()\n",
    "\n",
    "# Connect to 127.0.0.1:<port>\n",
    "host = f\"http://127.0.0.1:{port}\"\n",
    "\n",
    "client = Client(host=host)"
   ]
  },
  {
   "cell_type": "code",
   "execution_count": 8,
   "id": "5bd2dc9a-e6e4-4f57-a460-b0de9176dafe",
   "metadata": {},
   "outputs": [
    {
     "data": {
      "text/plain": [
       "ProgressResponse(status='success', completed=None, total=None, digest=None)"
      ]
     },
     "execution_count": 8,
     "metadata": {},
     "output_type": "execute_result"
    }
   ],
   "source": [
    "# Get LLM\n",
    "client.pull(\"qwen3:4b\")"
   ]
  },
  {
   "cell_type": "markdown",
   "id": "e5bcde2c-a048-456a-927f-25faa80d97ea",
   "metadata": {},
   "source": [
    "System prompts allow the programmer to achieve greater control over the LLM's use of tools and higher-level context. \n",
    "\n",
    "They are not visible to the user but instead are a distinct section of the LLM's context window. System prompts often include phrases like \"Use tools only when necessary.\" or give the LLM useful meta-context such as \"You are a helpful assistant.\"\n",
    "\n",
    "Here you can experiment with the system prompt and understand how it affects the later queries."
   ]
  },
  {
   "cell_type": "code",
   "execution_count": 9,
   "id": "e6916c28-6d2f-4a6f-9cd6-6a28405961b0",
   "metadata": {},
   "outputs": [],
   "source": [
    "system_prompt = \"Use tools only when explicitly necessary.\"\n",
    "\n",
    "def chat(prompt):\n",
    "    response = client.chat(\n",
    "        model='qwen3:4b',\n",
    "        messages=[\n",
    "            {\"role\": \"system\", \"content\": system_prompt},\n",
    "            {\"role\": \"user\", \"content\": prompt}\n",
    "        ],\n",
    "        tools=[weather_tool, time_tool, sql_tool],\n",
    "        options={\n",
    "            'temperature': 0\n",
    "        }\n",
    "    )\n",
    "\n",
    "    if \"tool_calls\" in response[\"message\"]:\n",
    "        for tool_call in response[\"message\"][\"tool_calls\"]:\n",
    "            tool_name = tool_call[\"function\"][\"name\"]\n",
    "            args = tool_call[\"function\"].get(\"arguments\", {})\n",
    "            print(f\"Tool: {tool_name}\")\n",
    "\n",
    "            # Ensure the tool exists\n",
    "            if tool_name not in TOOL_FUNCTIONS:\n",
    "                print(f\"Tool '{tool_name}' is not implemented.\")\n",
    "                continue\n",
    "\n",
    "            try:\n",
    "                # Call the actual tool function\n",
    "                tool_output = json.loads(TOOL_FUNCTIONS[tool_name](**args))\n",
    "            except Exception as e:\n",
    "                tool_output = {\"error\": str(e)}\n",
    "\n",
    "            if \"error\" in tool_output:\n",
    "                final_response = tool_output[\"error\"]\n",
    "            else:\n",
    "                followup = client.chat(\n",
    "                    # model='llama3.1',\n",
    "                    model='qwen3:4b',\n",
    "                    messages=[\n",
    "                        {\"role\": \"system\", \"content\": f\"You are a helpful assistant. Turn tool outputs into natural conversational replies. If weather tool was used, please convert celsius to fahrenheit.\"},\n",
    "                        {\"role\": \"user\", \"content\": f\"Here is the output of the tool '{tool_name}': {tool_output}, with the prompt: {prompt}. Reply as an answerer.\"}\n",
    "                    ]\n",
    "                )\n",
    "                final_response = followup[\"message\"][\"content\"]\n",
    "\n",
    "            print(final_response)\n",
    "    else:\n",
    "        print(response[\"message\"][\"content\"])\n"
   ]
  },
  {
   "cell_type": "markdown",
   "id": "2588c5e3-6815-4ea6-a5c4-abb31c2c05b0",
   "metadata": {},
   "source": [
    "## Using the Tool-calling LLM"
   ]
  },
  {
   "cell_type": "markdown",
   "id": "163f23e1-8c56-440a-8a74-62d7e81d0b04",
   "metadata": {},
   "source": [
    "- Ask some time related questions (May take some time to complete)"
   ]
  },
  {
   "cell_type": "code",
   "execution_count": 10,
   "id": "1081c7ad-5bcf-48dc-8f32-9ce0fe07eb4a",
   "metadata": {},
   "outputs": [
    {
     "name": "stdout",
     "output_type": "stream",
     "text": [
      "Tool: get_current_time\n",
      "<think>\n",
      "Okay, let's see. The user asked, \"What time is it, and how long will it take to reach the next hour?\" The tool response is the current time as '2025-06-24 17:01:43'. \n",
      "\n",
      "First, I need to parse that time. The date is 2025-06-24, which is June 24th, 2025. The time is 17:01:43, which is 5:01:43 PM in 12-hour format. \n",
      "\n",
      "The first part of the question is asking for the current time. So I should state the time in a natural way. Maybe say \"It is currently 5:01:43 PM on June 24th, 2025.\"\n",
      "\n",
      "Next, the user wants to know how long until the next hour. The current time is 17:01:43, so the next hour would be 18:00:00. Let's calculate the difference. From 17:01:43 to 18:00:00 is 48 minutes and 17 seconds. Wait, let me check that again. \n",
      "\n",
      "From 17:01:43 to 17:00:00 is 1 minute and 43 seconds before, but since we're going to the next hour, it's from 17:01:43 to 18:00:00. So subtract 17:00:00 from 18:00:00, which is 1 hour. Then subtract the current time from 17:00:00. Wait, maybe a better way is to calculate the time difference between 17:01:43 and 18:00:00.\n",
      "\n",
      "18:00:00 minus 17:01:43 equals 48 minutes and 17 seconds. Wait, no. Let's break it down. From 17:01:43 to 18:01:43 is 1 hour. But we need to get to 18:00:00, which is 1 hour minus 1 minute and 43 seconds. Wait, that's confusing. Let me do it step by step.\n",
      "\n",
      "The current time is 17:01:43. The next hour starts at 18:00:00. So the time until 18:00:00 is:\n",
      "\n",
      "From 17:01:43 to 18:00:00 is 48 minutes and 17 seconds. Wait, how? Let's count:\n",
      "\n",
      "From 17:01:43 to 17:01:43 is 0 seconds. Then to 17:02:43 is 1 minute, and so on. Wait, maybe it's easier to calculate the difference in minutes.\n",
      "\n",
      "17:01:43 to 18:00:00 is 1 hour minus 1 minute and 43 seconds. Wait, no. Let's convert both times to minutes since midnight.\n",
      "\n",
      "17:01:43 is 17*60 + 1 + 43/60 minutes. Wait, maybe better to convert to seconds.\n",
      "\n",
      "17 hours is 17*3600 = 61200 seconds. 1 minute is 60 seconds, 43 seconds is 43. So total is 61200 + 60 + 43 = 61303 seconds.\n",
      "\n",
      "18:00:00 is 18*3600 = 64800 seconds.\n",
      "\n",
      "Difference is 64800 - 61303 = 3497 seconds.\n",
      "\n",
      "Convert 3497 seconds to minutes and seconds: 3497 / 60 = 58 minutes with a remainder of 17 seconds. So 58 minutes and 17 seconds.\n",
      "\n",
      "Wait, but that's 58 minutes and 17 seconds. But the user is asking how long until the next hour, which is 18:00:00. So the time from 17:01:43 to 18:00:00 is 58 minutes and 17 seconds. That seems correct.\n",
      "\n",
      "So the answer would be: It is currently 5:01:43 PM on June 24th, 2025. The next hour will be at 6:00:00 PM, which is in 58 minutes and 17 seconds.\n",
      "\n",
      "Wait, but the user might be expecting a simpler answer, like \"about 58 minutes\" or \"approximately 58 minutes and 17 seconds\". But since the exact time is needed, maybe include the exact seconds.\n",
      "\n",
      "Alternatively, sometimes people say \"58 minutes and 17 seconds\" or \"just under an hour\".\n",
      "\n",
      "But the user might not need the exact seconds, but the answer should be precise based on the tool's output. So the answer should be: It is currently 5:01:43 PM on June 24th, 2025. The next hour will be at 6:00:00 PM, which is in 58 minutes and 17 seconds.\n",
      "</think>\n",
      "\n",
      "It is currently 5:01:43 PM on June 24th, 2025. The next hour will be at 6:00:00 PM, which is in **58 minutes and 17 seconds**.\n"
     ]
    }
   ],
   "source": [
    "chat(\"What time is it, and how long will it take to reach the next hour.\")"
   ]
  },
  {
   "cell_type": "markdown",
   "id": "9ed372ba-a3cf-4f69-82b2-ef39b1b91738",
   "metadata": {},
   "source": [
    "- Ask what the weather is like in whichever city you want to ask about."
   ]
  },
  {
   "cell_type": "code",
   "execution_count": 11,
   "id": "a85c4c8f-4785-47bc-ad36-59430aa4d274",
   "metadata": {},
   "outputs": [
    {
     "name": "stdout",
     "output_type": "stream",
     "text": [
      "Tool: get_weather\n",
      "<think>\n",
      "Okay, the user is asking about the current weather in San Diego and if it's good for surfing. Let me check the tool response. The temperature is 21.4°C, which is around 70.5°F. The wind speed is 11.3 m/s, that's pretty strong. The condition is clear sky with a sun icon. \n",
      "\n",
      "First, I need to present the current weather details clearly. Convert the Celsius to Fahrenheit for the temperature. Then, assess the wind speed for surfing. Strong winds can affect wave size and safety. Since the sky is clear, there's good visibility. But with wind speed around 11.3 m/s, which is about 25 mph, that's quite strong. Surfers might need to consider if the wind is too strong for their skill level. Maybe mention that while the conditions are clear, the wind could impact the surfing experience. Suggest checking wave conditions or wind direction for better advice. Keep the answer friendly and helpful.\n",
      "</think>\n",
      "\n",
      "The current weather in San Diego is clear with a temperature of 70.5°F (21.4°C) and a wind speed of 25 mph (11.3 m/s). The skies are sunny ☀️, which is great for surfing, but the strong winds might affect wave conditions. If the wind direction is favorable (e.g., offshore), it could create good waves, but be mindful of the wind speed. Always check local surf reports for the best conditions! 🌊\n"
     ]
    }
   ],
   "source": [
    "chat(\"What is the current weather in San Diego, and will it be good for surfing?\")"
   ]
  },
  {
   "cell_type": "code",
   "execution_count": 12,
   "id": "9df9e9d1-50c4-4cf6-82fb-91b825d30783",
   "metadata": {},
   "outputs": [
    {
     "name": "stdout",
     "output_type": "stream",
     "text": [
      "Tool: get_weather\n",
      "<think>\n",
      "Okay, the user is asking about the current weather in Los Angeles and whether they should bring sunscreen. Let me check the tool response. The temperature is 21.8°C, which is about 71.2°F. The wind speed is 16.2 km/h, and the condition is clear sky with a sun icon. Since the sky is clear and the temperature is mild, it's likely sunny. Sunscreen is recommended when the sun is strong, so even though it's not extremely hot, if it's sunny, sunscreen would be a good idea. I should mention the temperature in both Celsius and Fahrenheit, note the clear sky, and advise on sunscreen.\n",
      "</think>\n",
      "\n",
      "The current weather in Los Angeles is 21.8°C (71.2°F) with a clear sky and wind speed of 16.2 km/h. Since the sky is clear, it’s likely sunny, so bringing sunscreen would be a good idea to protect your skin from the sun. ☀️\n"
     ]
    }
   ],
   "source": [
    "chat(\"What is the current weather in Los Angeles, and should I bring sunscreen?\")"
   ]
  },
  {
   "cell_type": "markdown",
   "id": "22301238-2fc5-42a2-ab68-955eb678583c",
   "metadata": {},
   "source": [
    "- Ask about the company that we had put in the SQL database"
   ]
  },
  {
   "cell_type": "code",
   "execution_count": 13,
   "id": "c6909ff6-d0bb-40fa-9bf6-5aeb1f2fcf79",
   "metadata": {},
   "outputs": [
    {
     "name": "stdout",
     "output_type": "stream",
     "text": [
      "Tool: execute_sql_query\n",
      "<think>\n",
      "Okay, the user asked, \"What roles are there in the company?\" and the tool response from execute_sql_query gave the results: ['Engineer', 'Manager', 'Analyst', 'HR']. I need to present these roles in a clear and natural way.\n",
      "\n",
      "First, I should list each role, making sure they're all included. The user might be looking for a straightforward answer, so maybe just stating them out. But perhaps adding a sentence to explain that these are the roles available. Let me check if there's any need to mention the SQL query part, but since the user didn't ask about the query, just the roles, I can focus on the results. Also, the roles are in a list, so using bullet points or commas would be good. Wait, the example in the problem uses a list with each role on a separate line. So maybe I should format it similarly. Let me make sure there's no markdown, but the user said to reply as an answerer, so probably just plain text. Alright, I'll list each role separated by commas or as a list. Let me confirm the exact output. The tool's results are a list of strings, each being a role. So the answer should be something like, \"The company has the following roles: Engineer, Manager, Analyst, and HR.\" Or using a list format. Since the example in the problem shows each role on a separate line, maybe that's the way to go. But the user might prefer a concise answer. Either way, the key is to present the roles clearly. I think the best approach is to list them as they are, in a natural sentence. Let me go with that.\n",
      "</think>\n",
      "\n",
      "The company has the following roles: Engineer, Manager, Analyst, and HR.\n"
     ]
    }
   ],
   "source": [
    "chat(\"What roles are there in the company?\")"
   ]
  },
  {
   "cell_type": "code",
   "execution_count": 14,
   "id": "2c3a1af3-538f-4e5e-8191-0d1b1b8b8da6",
   "metadata": {},
   "outputs": [
    {
     "name": "stdout",
     "output_type": "stream",
     "text": [
      "Tool: execute_sql_query\n",
      "<think>\n",
      "Okay, the user asked, \"Which employees are Engineers?\" and the tool output is [{'results': [['Alice', 'Engineer']]}. So, I need to present this information clearly.\n",
      "\n",
      "First, I should check if the query was executed correctly. The result shows Alice with the job title Engineer. The user probably wants to know the names of employees who are Engineers. Since there's only one result, I should mention Alice specifically. \n",
      "\n",
      "I should make sure to format the answer in a natural way, not just listing the data. Maybe start by stating that the query returned the result, then list the employee. Also, check if the user needs more details, but since the question is straightforward, just providing the answer should be enough. No need to convert units here because it's about job titles. Alright, the response should be clear and concise.\n",
      "</think>\n",
      "\n",
      "The query returned the following result:  \n",
      "**Alice** is an Engineer.\n"
     ]
    }
   ],
   "source": [
    "chat(\"Which employees are Engineers?\")"
   ]
  },
  {
   "cell_type": "markdown",
   "id": "d0af31fb-6d25-4746-98d1-882d926d3560",
   "metadata": {},
   "source": [
    "- Run a prompt that is unrelated to any of the tools, and see what the LLM does."
   ]
  },
  {
   "cell_type": "code",
   "execution_count": 15,
   "id": "361f9b7a-7a45-4c3f-9308-84bff0afdffe",
   "metadata": {},
   "outputs": [
    {
     "name": "stdout",
     "output_type": "stream",
     "text": [
      "<think>\n",
      "Okay, the user just said \"Foo Bar Foo Bar\". Hmm, that's interesting. Let me see what they need. The tools available are get_weather, get_current_time, and execute_sql_query. But the user's message doesn't mention anything related to weather, time, or a database query. They're just repeating \"Foo Bar\" twice. Maybe they're testing the system or trying to see if I can recognize a pattern. Since there's no explicit request for any of the tools, I should probably respond with a general message. Let me check if there's any hidden intent here. Maybe they want to know the time or weather for a specific city, but they didn't specify. Alternatively, they might be referring to a database table, but without more context, it's hard to tell. Since none of the tools are directly applicable, I'll just acknowledge their message and ask if they need anything else.\n",
      "</think>\n",
      "\n",
      "The message \"Foo Bar Foo Bar\" does not contain explicit requests for weather, time, or database queries. However, if you have a specific question or need assistance with something related to the tools provided, feel free to ask!\n"
     ]
    }
   ],
   "source": [
    "chat(\"Foo Bar Foo Bar\")"
   ]
  }
 ],
 "metadata": {
  "kernelspec": {
   "display_name": "Python 3 (ipykernel)",
   "language": "python",
   "name": "python3"
  },
  "language_info": {
   "codemirror_mode": {
    "name": "ipython",
    "version": 3
   },
   "file_extension": ".py",
   "mimetype": "text/x-python",
   "name": "python",
   "nbconvert_exporter": "python",
   "pygments_lexer": "ipython3",
   "version": "3.13.5"
  }
 },
 "nbformat": 4,
 "nbformat_minor": 5
}
