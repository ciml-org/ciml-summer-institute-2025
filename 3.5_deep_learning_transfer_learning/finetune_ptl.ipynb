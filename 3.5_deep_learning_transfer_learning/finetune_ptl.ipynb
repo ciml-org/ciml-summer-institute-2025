{
 "cells": [
  {
   "cell_type": "markdown",
   "id": "fbb7ce6d-54e7-4901-be99-ba13f04d499d",
   "metadata": {},
   "source": [
    "# Transfer Learning on Cats-Dogs Classification - Fine Tune\n",
    "\n",
    "### Fine-tune pre-trained CNN's top layers and classification layers to classify cats vs. dogs.\n",
    "\n",
    "### Adapted from https://www.tensorflow.org/tutorials/images/transfer_learning\n",
    "\n",
    "## CIML Summer Institute\n",
    "### UC San Diego"
   ]
  },
  {
   "cell_type": "markdown",
   "id": "12e3560c-b3f1-4caa-baa9-53507627791c",
   "metadata": {},
   "source": [
    "## Setup"
   ]
  },
  {
   "cell_type": "code",
   "execution_count": null,
   "id": "752b26ce-4d20-480e-8a95-0a13aaca8fc0",
   "metadata": {
    "tags": []
   },
   "outputs": [],
   "source": [
    "import os\n",
    "import random\n",
    "from PIL import Image\n",
    "\n",
    "import matplotlib.pyplot as plt\n",
    "import numpy as np\n",
    "import pandas as pd\n",
    "import pytorch_lightning as pl\n",
    "import torch\n",
    "import torchmetrics\n",
    "from pytorch_lightning import callbacks as pl_callbacks\n",
    "from pytorch_lightning.callbacks.progress import TQDMProgressBar\n",
    "from sklearn.metrics import classification_report\n",
    "from torch import nn\n",
    "from torch.nn import functional as F\n",
    "from torch.optim.lr_scheduler import LinearLR\n",
    "from torch.utils.data import DataLoader\n",
    "from torchmetrics.functional import accuracy\n",
    "from torchvision import datasets, models, transforms\n",
    "# from torchsummary import summary\n",
    "import torchvision"
   ]
  },
  {
   "cell_type": "code",
   "execution_count": null,
   "id": "2edb9d7b-03a2-46b8-bc1a-15c31744ac3c",
   "metadata": {
    "tags": []
   },
   "outputs": [],
   "source": [
    "# Set global random seed for reproducibility\n",
    "\n",
    "def set_seed(seed=1234):\n",
    "    os.environ[\"PYTHONHASHSEED\"] = str(0)  # disable hash randomization\n",
    "    random.seed(seed)\n",
    "    np.random.seed(seed)\n",
    "    torch.manual_seed(seed)\n",
    "    torch.cuda.manual_seed(seed)\n",
    "    torch.backends.cudnn.deterministic = True\n",
    "    pl.seed_everything(seed, workers=False)\n",
    "\n",
    "set_seed()"
   ]
  },
  {
   "cell_type": "code",
   "execution_count": null,
   "id": "9391aa37-43ba-426e-b7d1-24a99936b4bc",
   "metadata": {
    "tags": []
   },
   "outputs": [],
   "source": [
    "!jupyter --version\n",
    "print (pl.__version__)\n",
    "print (torch.__version__)\n",
    "!python --version\n",
    "\n",
    "!nvidia-smi"
   ]
  },
  {
   "cell_type": "code",
   "execution_count": null,
   "id": "580ba892-d588-4031-9431-23b054b2accd",
   "metadata": {
    "tags": []
   },
   "outputs": [],
   "source": [
    "from os.path import expanduser\n",
    "HOME = expanduser(\"~\")\n",
    "\n",
    "# TODO: Set DATA_DIR with the path to data in home directory, under 'data/catsVsDogs'\n",
    "==> YOUR CODE HERE\n",
    "\n",
    "CHECKPOINT_DIR = \"models/finetune\"\n",
    "NUM_CPUS = 4\n",
    "\n",
    "DEVICE = torch.device(\"cuda\" if torch.cuda.is_available() else \"cpu\")"
   ]
  },
  {
   "cell_type": "code",
   "execution_count": null,
   "id": "68b3d3d6-1e71-4684-98f2-635671531e0a",
   "metadata": {},
   "outputs": [],
   "source": [
    "IMAGE_DIM = 224\n",
    "MEAN = (0.5, 0.5, 0.5)\n",
    "STD = (0.5, 0.5, 0.5)\n",
    "BATCH_SIZE = 16\n",
    "LEARNING_RATE = 1e-5"
   ]
  },
  {
   "cell_type": "markdown",
   "id": "9ec85a35-5b48-4082-9517-9207c2bc8836",
   "metadata": {},
   "source": [
    "## Define Transforms\n",
    "Same transforms as in feature extraction, just in a different format"
   ]
  },
  {
   "cell_type": "code",
   "execution_count": null,
   "id": "bd232cab-2baa-4e34-846c-ee29880b1dd3",
   "metadata": {
    "tags": []
   },
   "outputs": [],
   "source": [
    "transform = {\n",
    "    \"train\": transforms.Compose(\n",
    "        [\n",
    "            transforms.Resize(\n",
    "                size=(IMAGE_DIM, IMAGE_DIM),\n",
    "                interpolation=transforms.InterpolationMode.BILINEAR,\n",
    "            ),\n",
    "            transforms.ToTensor(),\n",
    "            transforms.Normalize(mean=MEAN, std=STD),\n",
    "            transforms.RandomAffine(degrees=0, shear=0.2),  # Shear\n",
    "            transforms.RandomResizedCrop(\n",
    "                size=IMAGE_DIM,\n",
    "                scale=(0.8, 1.2),\n",
    "                interpolation=transforms.InterpolationMode.NEAREST,\n",
    "            ),  # Zoom\n",
    "\n",
    "            # TODO: add a transform here that randomly flips images horizontally \n",
    "            # HINT: use torchvision.transforms.RandomHorizontalFlip()\n",
    "            ==> YOUR CODE HERE\n",
    "        ]\n",
    "    ),\n",
    "    \"val\": transforms.Compose(\n",
    "        [\n",
    "            # TODO: add a transform here that resizes the image with interpolation\n",
    "            # HINT: look at the transforms used above in the rescale block\n",
    "            ==> YOUR CODE HERE\n",
    "            \n",
    "            transforms.ToTensor(),\n",
    "            transforms.Normalize(mean=MEAN, std=STD),\n",
    "        ]\n",
    "    ),\n",
    "}\n"
   ]
  },
  {
   "cell_type": "markdown",
   "id": "c4131995-4048-4fab-9e8d-6d3062c94dda",
   "metadata": {},
   "source": [
    "## Define Data Module"
   ]
  },
  {
   "cell_type": "code",
   "execution_count": null,
   "id": "879b739d-ae69-46c9-9d8d-f90793fc2667",
   "metadata": {
    "tags": []
   },
   "outputs": [],
   "source": [
    "class CatsDogsData(pl.LightningDataModule):\n",
    "    def __init__(self, data_dir=DATA_DIR, batch_size=BATCH_SIZE):\n",
    "        super().__init__()\n",
    "        self.data_dir = data_dir\n",
    "        self.batch_size = batch_size\n",
    "        self.transform = transform\n",
    "        \n",
    "    def prepare_data(self):\n",
    "        self.train_data = datasets.ImageFolder(\n",
    "            root=os.path.join(self.data_dir, \"train\"), transform=self.transform[\"train\"]\n",
    "        )\n",
    "        self.val_data = datasets.ImageFolder(\n",
    "            root=os.path.join(self.data_dir, \"val\"), transform=self.transform[\"val\"]\n",
    "        )\n",
    "        self.test_data = datasets.ImageFolder(\n",
    "            root=os.path.join(self.data_dir, \"test\"), transform=self.transform[\"val\"]\n",
    "        )\n",
    "        \n",
    "    def train_dataloader(self):\n",
    "        \"\"\"Train DataLoader.\"\"\"\n",
    "        # Num workers - speed up training\n",
    "        return DataLoader(self.train_data, batch_size=self.batch_size, shuffle=True, num_workers=NUM_CPUS)\n",
    "\n",
    "    def val_dataloader(self):\n",
    "        \"\"\"Validation DataLoader.\"\"\"\n",
    "        # TODO: Define a data loader here for validation data.  Note that shuffling is not needed for validation.\n",
    "        ==> YOUR CODE HERE\n",
    "\n",
    "        return DataLoader(self.val_data, batch_size=self.batch_size, shuffle=False, num_workers=NUM_CPUS)\n",
    "\n",
    "    def test_dataloader(self):\n",
    "        \"\"\"Test DataLoader.\"\"\"\n",
    "        return DataLoader(self.test_data, batch_size=self.batch_size, shuffle=False, num_workers=NUM_CPUS)"
   ]
  },
  {
   "cell_type": "markdown",
   "id": "2bae98a3-f97a-43a9-bad6-2ec103a782c8",
   "metadata": {},
   "source": [
    "## Define Model"
   ]
  },
  {
   "cell_type": "code",
   "execution_count": null,
   "id": "5b32ae2b-3a68-454a-a101-0e9577939a53",
   "metadata": {
    "tags": []
   },
   "outputs": [],
   "source": [
    "class MobileNetV2Model(pl.LightningModule):\n",
    "    \"\"\"MobileNetV2 model class.\"\"\"\n",
    "\n",
    "    def __init__(self):\n",
    "        super().__init__()\n",
    "        self.automatic_optimization = (True)\n",
    "\n",
    "        self.model = torch.hub.load(\n",
    "            \"pytorch/vision:v0.10.0\", \"mobilenet_v2\", weights=torchvision.models.MobileNet_V2_Weights.DEFAULT, progress=False\n",
    "        )\n",
    "        \n",
    "        self.accuracy = torchmetrics.Accuracy(task=\"binary\").to(DEVICE)\n",
    "\n",
    "        # Freeze weights up to layer 116\n",
    "        for i, param in enumerate(self.model.parameters()):\n",
    "            if i <= 116: param.requires_grad = False\n",
    "            \n",
    "        # Top model\n",
    "        self.model.pooling = nn.AdaptiveAvgPool2d(output_size=1)\n",
    "        self.model.classifier = nn.Sequential(\n",
    "            nn.Dropout(p=0.2), nn.Linear(1280, 1), nn.Sigmoid()\n",
    "            # TODO: Add a Dropout layer for regularization with a probability of 0.2\n",
    "            # TODO: Add a Linear layer to map from 1280 features to 1 output\n",
    "            # TODO: Add a Sigmoid activation for binary classification\n",
    "            # HINT: Use nn.Dropout(p=XX), nn.Linear(XX,XX), and nn.Sigmoid()\n",
    "            ==> YOUR CODE HERE\n",
    "\n",
    "        )\n",
    "\n",
    "    def forward(self, x):\n",
    "        return self.model(x.float())\n",
    "\n",
    "    def configure_optimizers(self):\n",
    "        opt = torch.optim.Adam(\n",
    "            filter(lambda p: p.requires_grad, self.model.parameters()), lr=LEARNING_RATE\n",
    "        )\n",
    "        scheduler = LinearLR(opt, start_factor=0.5, total_iters=3)\n",
    "        return [opt], [scheduler]\n",
    "\n",
    "    def training_step(self, batch: int, batch_idx: int):\n",
    "        \"\"\"Training step.\"\"\"\n",
    "        X, y = batch\n",
    "        logits = self(X.float()).view(-1)\n",
    "        train_loss = F.binary_cross_entropy(logits, y.float())\n",
    "        pred = logits >= 0.5\n",
    "        train_acc = self.accuracy(pred, y)\n",
    "\n",
    "        self.log(\"train_loss\", train_loss, prog_bar=True, on_epoch=True, on_step=False)\n",
    "        self.log(\"train_acc\", train_acc, prog_bar=True, on_epoch=True, on_step=False)\n",
    "        return train_loss\n",
    "\n",
    "    def validation_step(self, batch: int, batch_idx: int):\n",
    "        \"\"\"Validation step.\"\"\"\n",
    "        X, y = batch\n",
    "        logits = self(X.float()).view(-1)\n",
    "        valid_loss = F.binary_cross_entropy(logits, y.float())\n",
    "        pred = logits >= 0.5\n",
    "        valid_acc = self.accuracy(pred, y)\n",
    "\n",
    "        # TODO: Log \"val_loss\" and \"val_acc\" using self.log()\n",
    "        # HINT: Look at the training_step method above\n",
    "        ==> YOUR CODE HERE\n",
    "\n",
    "        return valid_loss\n",
    "\n",
    "    def test_step(self, batch: int, batch_idx: int):\n",
    "        \"\"\"Test step.\"\"\"\n",
    "        X, y = batch\n",
    "        logits = self(X.float()).view(-1)\n",
    "        test_loss = F.binary_cross_entropy(logits, y.float())\n",
    "        pred = logits >= 0.5\n",
    "        test_acc = self.accuracy(pred, y)\n",
    "        return test_loss\n"
   ]
  },
  {
   "cell_type": "markdown",
   "id": "365f39c6-d3d2-4405-8e9d-ebc673d8e6d6",
   "metadata": {},
   "source": [
    "## Train Model"
   ]
  },
  {
   "cell_type": "code",
   "execution_count": null,
   "id": "2fb05688-df1b-4d18-95c1-7da6e75c62e4",
   "metadata": {
    "tags": []
   },
   "outputs": [],
   "source": [
    "# Define max epochs\n",
    "num_epochs = 30\n",
    "\n",
    "# Define early stopping callback\n",
    "early_stop = pl_callbacks.EarlyStopping(\n",
    "    monitor=\"val_loss\", patience=3, min_delta=1e-3, verbose=True, mode=\"min\"\n",
    ")\n",
    "\n",
    "data = CatsDogsData()\n",
    "\n",
    "# TODO: Prepare the dataset by calling the appropriate method from the CatsDogsData class\n",
    "# HINT: Look at the data module code above!\n",
    "==> YOUR CODE HERE\n",
    "\n",
    "data.prepare_data()\n",
    "\n",
    "\n",
    "def get_predict(model, data_loader):\n",
    "    \"\"\"Get predictions from model and DataLoader.\"\"\"\n",
    "    true_values = []\n",
    "    predicted_values = []\n",
    "    for imgs, labels in data_loader:\n",
    "        imgs = imgs.to(DEVICE)\n",
    "        outputs = model(imgs)\n",
    "        true_values.extend(labels)\n",
    "        predicted_values.extend((outputs >= 0.5).view(-1).cpu().numpy())\n",
    "\n",
    "    return true_values, predicted_values\n",
    "\n",
    "\n",
    "# Define model checkpoint callback\n",
    "checkpoint = pl.callbacks.ModelCheckpoint(\n",
    "    dirpath=CHECKPOINT_DIR,\n",
    "    filename=str(num_epochs) + \"_{epoch:02d}-{step}\",\n",
    "    monitor=\"val_loss\",\n",
    "    mode=\"min\",\n",
    "    save_weights_only=True,\n",
    "    save_top_k=1,\n",
    "    verbose = True,\n",
    ")\n",
    "\n",
    "trainer = pl.Trainer(\n",
    "    accelerator=\"gpu\",\n",
    "    max_epochs=num_epochs,\n",
    "    callbacks=[checkpoint, early_stop, TQDMProgressBar(refresh_rate=50)]\n",
    ")\n",
    "\n",
    "# Load model from feature_extraction\n",
    "\n",
    "# TODO: Set model_path to the model trained from feature extraction\n",
    "# HINT: Look in the models subdirectory\n",
    "# HINT: Model weights are saved in best_model.ckpt.  \n",
    "==> YOUR CODE HERE\n",
    "\n",
    "model = MobileNetV2Model.load_from_checkpoint(\n",
    "    checkpoint_path=model_path,\n",
    "    strict=False,\n",
    ")\n",
    "\n",
    "# summarize model\n",
    "model = model.to(DEVICE)\n",
    "# summary(model, (3, 224, 224))"
   ]
  },
  {
   "cell_type": "code",
   "execution_count": null,
   "id": "ad5739e9-8cfc-45de-a94e-d692aace3b3c",
   "metadata": {
    "scrolled": true,
    "tags": []
   },
   "outputs": [],
   "source": [
    "# Fit model and get best model path\n",
    "\n",
    "# TODO: Train the model using the model and data\n",
    "# HINT: Use trainer.fit(...)\n",
    "==> YOUR CODE HERE\n",
    "\n",
    "best_model_path = checkpoint.best_model_path\n",
    "print(f\"Best model saved at: {best_model_path}\")"
   ]
  },
  {
   "cell_type": "markdown",
   "id": "70c5bf50-f741-4ec2-afb5-4fb2272104f9",
   "metadata": {},
   "source": [
    "## Evaluate Model"
   ]
  },
  {
   "cell_type": "code",
   "execution_count": null,
   "id": "b37d1cce-9f50-4398-bc7f-f815a0f39233",
   "metadata": {},
   "outputs": [],
   "source": [
    "model = MobileNetV2Model.load_from_checkpoint(checkpoint_path=best_model_path)\n",
    "model = model.to(DEVICE)\n",
    "model.freeze()\n",
    "\n",
    "# Make predictions\n",
    "y_train, pred_train = get_predict(model, data.train_dataloader())\n",
    "y_val, pred_val = get_predict(model, data.val_dataloader())\n",
    "\n",
    "# TODO: Get predictions on the test set and print the classification report.  See train & val above.\n",
    "==> YOUR CODE HERE\n"
   ]
  },
  {
   "cell_type": "code",
   "execution_count": null,
   "id": "32e46879-c6d1-4d3b-86a2-952f51b26709",
   "metadata": {},
   "outputs": [],
   "source": [
    "print(checkpoint.best_model_path)"
   ]
  },
  {
   "cell_type": "code",
   "execution_count": null,
   "id": "1116cba0-2db4-4c80-8afa-82cd3d2526fc",
   "metadata": {
    "tags": []
   },
   "outputs": [],
   "source": [
    "print(f\"Train:\\n {classification_report(y_train, pred_train, digits=4)}\")\n",
    "print(f\"Val:\\n {classification_report(y_val, pred_val, digits=4)}\")\n",
    "print(f\"Test:\\n {classification_report(y_test, pred_test, digits=4)}\")"
   ]
  },
  {
   "cell_type": "markdown",
   "id": "0ca06344-1b58-458e-a2ea-8f9c5391d32a",
   "metadata": {},
   "source": [
    "## Perform Inference"
   ]
  },
  {
   "cell_type": "code",
   "execution_count": null,
   "id": "5cdc7682-94b9-4191-bc98-b6fe90f8949b",
   "metadata": {},
   "outputs": [],
   "source": [
    "model = model.to(DEVICE)"
   ]
  },
  {
   "cell_type": "code",
   "execution_count": null,
   "id": "aeab7705-b1e5-408a-a206-0d99a914d606",
   "metadata": {},
   "outputs": [],
   "source": [
    "# helper method to prepare image for model inference\n",
    "def image_loader(image_path):\n",
    "    transform = transforms.Compose([\n",
    "        transforms.Resize((224, 224)),\n",
    "        transforms.ToTensor(),\n",
    "        transforms.Normalize(mean=(0.5, 0.5, 0.5), std=(0.5, 0.5, 0.5)),\n",
    "    ])\n",
    "    image = Image.open(image_path).convert(\"RGB\")\n",
    "    plt.figure(figsize=(5, 5))\n",
    "    plt.imshow(image)\n",
    "    plt.axis(\"off\")\n",
    "    plt.show()\n",
    "\n",
    "    image = transform(image).unsqueeze(0).to(DEVICE)\n",
    "    return image"
   ]
  },
  {
   "cell_type": "code",
   "execution_count": null,
   "id": "4336ee7f-dbaf-4e3e-abf3-f0ffc16929f2",
   "metadata": {},
   "outputs": [],
   "source": [
    "image_path = DATA_DIR + \"/test/cats/cat.1070.jpg\"\n",
    "img = image_loader(image_path)\n",
    "with torch.no_grad():\n",
    "    img_y_pred = model(img).item()\n",
    "\n",
    "print()\n",
    "print(f\"Prediction for {image_path}: \\n{'dog' if img_y_pred >= 0.5 else 'cat'} ({img_y_pred:.4f})\")\n",
    "\n",
    "#Closer prediction is to 0, more confident it is a cat; close prediction is to 1, more confident it is a dog"
   ]
  },
  {
   "cell_type": "code",
   "execution_count": null,
   "id": "72f8041b-789a-40ea-9999-3ccb7eb67e7f",
   "metadata": {},
   "outputs": [],
   "source": [
    "image_path = DATA_DIR + \"/test/dogs/dog.1233.jpg\"\n",
    "img = image_loader(image_path)\n",
    "\n",
    "# TODO: Run the model on the image and get the predicted value\n",
    "==> YOUR CODE HERE\n",
    "\n",
    "print()\n",
    "print(f\"Prediction for {image_path}: \\n{'dog' if img_y_pred >= 0.5 else 'cat'} ({img_y_pred:.4f})\")"
   ]
  },
  {
   "cell_type": "code",
   "execution_count": null,
   "id": "709d5199-98ac-42fb-be76-63d1ca93a37f",
   "metadata": {},
   "outputs": [],
   "source": [
    "image_path = DATA_DIR + \"/test/cats/cat.1080.jpg\"\n",
    "img = image_loader(image_path)\n",
    "with torch.no_grad():\n",
    "    img_y_pred = model(img).item()\n",
    "\n",
    "print()\n",
    "print(f\"Prediction for {image_path}: \\n{'dog' if img_y_pred >= 0.5 else 'cat'} ({img_y_pred:.4f})\")"
   ]
  },
  {
   "cell_type": "code",
   "execution_count": null,
   "id": "f9fc927d-d64a-42e6-9d07-ef0d4006f7e4",
   "metadata": {},
   "outputs": [],
   "source": [
    "image_path = DATA_DIR + \"/test/dogs/dog.1132.jpg\"\n",
    "img = image_loader(image_path)\n",
    "with torch.no_grad():\n",
    "    img_y_pred = model(img).item()\n",
    "\n",
    "print()\n",
    "print(f\"Prediction for {image_path}: \\n{'dog' if img_y_pred >= 0.5 else 'cat'} ({img_y_pred:.4f})\")"
   ]
  },
  {
   "cell_type": "code",
   "execution_count": null,
   "id": "59bc8e5a-5dfd-471a-a2ff-94b8d8d2a957",
   "metadata": {},
   "outputs": [],
   "source": [
    "image_path = DATA_DIR + \"/test/dogs/dog.1311.jpg\"\n",
    "img = image_loader(image_path)\n",
    "with torch.no_grad():\n",
    "    img_y_pred = model(img).item()\n",
    "\n",
    "print()\n",
    "print(f\"Prediction for {image_path}: \\n{'dog' if img_y_pred >= 0.5 else 'cat'} ({img_y_pred:.4f})\")"
   ]
  },
  {
   "cell_type": "code",
   "execution_count": null,
   "id": "817e75ba-4e3c-4980-87da-17c53d87bb86",
   "metadata": {},
   "outputs": [],
   "source": [
    "image_path = DATA_DIR + \"/test/cats/cat.1338.jpg\"\n",
    "img = image_loader(image_path)\n",
    "with torch.no_grad():\n",
    "    img_y_pred = model(img).item()\n",
    "\n",
    "print()\n",
    "print(f\"Prediction for {image_path}: \\n{'dog' if img_y_pred >= 0.5 else 'cat'} ({img_y_pred:.4f})\")"
   ]
  },
  {
   "cell_type": "code",
   "execution_count": null,
   "id": "906247e0-4788-481a-bc98-7fb2d6346fc5",
   "metadata": {},
   "outputs": [],
   "source": [
    "image_path = DATA_DIR + \"/test/cats/cat.1342.jpg\"\n",
    "img = image_loader(image_path)\n",
    "with torch.no_grad():\n",
    "    img_y_pred = model(img).item()\n",
    "\n",
    "print()\n",
    "print(f\"Prediction for {image_path}: \\n{'dog' if img_y_pred >= 0.5 else 'cat'} ({img_y_pred:.4f})\")"
   ]
  },
  {
   "cell_type": "code",
   "execution_count": null,
   "id": "41ba5539-72a1-40b0-9851-a254d5cf4cda",
   "metadata": {},
   "outputs": [],
   "source": [
    "image_path = DATA_DIR + \"/test/cats/cat.1180.jpg\"\n",
    "img = image_loader(image_path)\n",
    "with torch.no_grad():\n",
    "    img_y_pred = model(img).item()\n",
    "\n",
    "print()\n",
    "print(f\"Prediction for {image_path}: \\n{'dog' if img_y_pred >= 0.5 else 'cat'} ({img_y_pred:.4f})\")"
   ]
  },
  {
   "cell_type": "code",
   "execution_count": null,
   "id": "4c2956e6-1480-4453-ab5e-680354d09885",
   "metadata": {},
   "outputs": [],
   "source": [
    "image_path = DATA_DIR + \"/test/cats/cat.1048.jpg\"\n",
    "img = image_loader(image_path)\n",
    "with torch.no_grad():\n",
    "    img_y_pred = model(img).item()\n",
    "\n",
    "print()\n",
    "print(f\"Prediction for {image_path}: \\n{'dog' if img_y_pred >= 0.5 else 'cat'} ({img_y_pred:.4f})\")"
   ]
  },
  {
   "cell_type": "code",
   "execution_count": null,
   "id": "7a168dc9-acee-42a6-bb91-0580d69f6f14",
   "metadata": {},
   "outputs": [],
   "source": [
    "image_path = DATA_DIR + \"/test/dogs/dog.1342.jpg\"\n",
    "img = image_loader(image_path)\n",
    "with torch.no_grad():\n",
    "    img_y_pred = model(img).item()\n",
    "\n",
    "print()\n",
    "print(f\"Prediction for {image_path}: \\n{'dog' if img_y_pred >= 0.5 else 'cat'} ({img_y_pred:.4f})\")"
   ]
  },
  {
   "cell_type": "code",
   "execution_count": null,
   "id": "22cd37aa-7e17-4f5e-94e4-3a8331a5e074",
   "metadata": {},
   "outputs": [],
   "source": [
    "image_path = DATA_DIR + \"/test/dogs/dog.1308.jpg\"\n",
    "img = image_loader(image_path)\n",
    "with torch.no_grad():\n",
    "    img_y_pred = model(img).item()\n",
    "\n",
    "print()\n",
    "print(f\"Prediction for {image_path}: \\n{'dog' if img_y_pred >= 0.5 else 'cat'} ({img_y_pred:.4f})\")"
   ]
  },
  {
   "cell_type": "code",
   "execution_count": null,
   "id": "4edcae9c-576f-4a78-9925-c1db1d68fbbc",
   "metadata": {},
   "outputs": [],
   "source": []
  },
  {
   "cell_type": "code",
   "execution_count": null,
   "id": "5d278032-78cb-470f-915d-b61f658c9f52",
   "metadata": {},
   "outputs": [],
   "source": []
  }
 ],
 "metadata": {
  "kernelspec": {
   "display_name": "Python 3 (ipykernel)",
   "language": "python",
   "name": "python3"
  },
  "language_info": {
   "codemirror_mode": {
    "name": "ipython",
    "version": 3
   },
   "file_extension": ".py",
   "mimetype": "text/x-python",
   "name": "python",
   "nbconvert_exporter": "python",
   "pygments_lexer": "ipython3",
   "version": "3.13.5"
  }
 },
 "nbformat": 4,
 "nbformat_minor": 5
}
